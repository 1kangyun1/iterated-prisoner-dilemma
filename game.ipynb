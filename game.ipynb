{
 "cells": [
  {
   "cell_type": "code",
   "execution_count": 1,
   "id": "chief-precipitation",
   "metadata": {},
   "outputs": [],
   "source": [
    "from enum import Enum"
   ]
  },
  {
   "cell_type": "code",
   "execution_count": 2,
   "id": "annual-brand",
   "metadata": {},
   "outputs": [],
   "source": [
    "GAME_LEN = 10\n",
    "PLAYER_NUM = 100\n",
    "\n",
    "class Action(Enum):\n",
    "    COOP = 0\n",
    "    DEFECT = 1"
   ]
  },
  {
   "cell_type": "code",
   "execution_count": 8,
   "id": "incorporate-array",
   "metadata": {},
   "outputs": [],
   "source": [
    "def round(action1, action2):\n",
    "    if(Action.COOP == action1 == action2):\n",
    "        return [3,3]\n",
    "    elif(Action.COOP == action1 and Action.DEFECT == action2):\n",
    "        return [0,5]\n",
    "    elif(Action.DEFECT == action1 and Action.COOP == action2):\n",
    "        return [5,0]\n",
    "    else:\n",
    "        return [1,1]"
   ]
  },
  {
   "cell_type": "code",
   "execution_count": null,
   "id": "registered-answer",
   "metadata": {},
   "outputs": [],
   "source": []
  }
 ],
 "metadata": {
  "kernelspec": {
   "display_name": "Python 3",
   "language": "python",
   "name": "python3"
  },
  "language_info": {
   "codemirror_mode": {
    "name": "ipython",
    "version": 3
   },
   "file_extension": ".py",
   "mimetype": "text/x-python",
   "name": "python",
   "nbconvert_exporter": "python",
   "pygments_lexer": "ipython3",
   "version": "3.9.2"
  }
 },
 "nbformat": 4,
 "nbformat_minor": 5
}
