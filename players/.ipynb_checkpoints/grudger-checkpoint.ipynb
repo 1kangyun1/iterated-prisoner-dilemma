{
 "cells": [
  {
   "cell_type": "code",
   "execution_count": 2,
   "id": "severe-strategy",
   "metadata": {},
   "outputs": [],
   "source": [
    "class Grudger():\n",
    "    defect = False\n",
    "    count = 0\n",
    "    \n",
    "    def play():\n",
    "        if(count == 0 or not defect):\n",
    "            return Action.COOP\n",
    "        else:\n",
    "            return Action.DEFECT\n",
    "        \n",
    "    def update(result):\n",
    "        if(result[1] == Action.DEFECT):\n",
    "            defect = True"
   ]
  },
  {
   "cell_type": "code",
   "execution_count": null,
   "id": "running-reynolds",
   "metadata": {},
   "outputs": [],
   "source": []
  }
 ],
 "metadata": {
  "kernelspec": {
   "display_name": "Python 3",
   "language": "python",
   "name": "python3"
  },
  "language_info": {
   "codemirror_mode": {
    "name": "ipython",
    "version": 3
   },
   "file_extension": ".py",
   "mimetype": "text/x-python",
   "name": "python",
   "nbconvert_exporter": "python",
   "pygments_lexer": "ipython3",
   "version": "3.9.2"
  }
 },
 "nbformat": 4,
 "nbformat_minor": 5
}
